{
 "cells": [
  {
   "cell_type": "code",
   "execution_count": 7,
   "id": "a08fbc04-729c-4ee8-813c-a148473f07ad",
   "metadata": {},
   "outputs": [],
   "source": [
    "from transformers import  TFGPT2LMHeadModel, GPT2Tokenizer\n",
    "from sentence_transformers import SentenceTransformer, util"
   ]
  },
  {
   "cell_type": "code",
   "execution_count": 8,
   "id": "554cd22c-0f4d-44f7-b627-de75876c710f",
   "metadata": {},
   "outputs": [
    {
     "name": "stderr",
     "output_type": "stream",
     "text": [
      "All model checkpoint layers were used when initializing TFGPT2LMHeadModel.\n",
      "\n",
      "All the layers of TFGPT2LMHeadModel were initialized from the model checkpoint at ./model_bn_custom/.\n",
      "If your task is similar to the task the model of the checkpoint was trained on, you can already use TFGPT2LMHeadModel for predictions without further training.\n"
     ]
    }
   ],
   "source": [
    "modelSentences = SentenceTransformer('hiiamsid/sentence_similarity_spanish_es')\n",
    "tokenizer = GPT2Tokenizer.from_pretrained('./model_bn_custom/')\n",
    "model = TFGPT2LMHeadModel.from_pretrained('./model_bn_custom/')"
   ]
  },
  {
   "cell_type": "code",
   "execution_count": 9,
   "id": "74dc865d-7d4e-4429-a8eb-4a30716b612b",
   "metadata": {},
   "outputs": [],
   "source": [
    "text = \"En una noche oscura, Hercules Poirot pudo ir a investigar la desaparición de las gemelas en el castillo.\""
   ]
  },
  {
   "cell_type": "code",
   "execution_count": 10,
   "id": "8af9d1bc-0d4f-4490-93ec-fc9acd5321df",
   "metadata": {},
   "outputs": [
    {
     "name": "stderr",
     "output_type": "stream",
     "text": [
      "The attention mask and the pad token id were not set. As a consequence, you may observe unexpected behavior. Please pass your input's `attention_mask` to obtain reliable results.\n",
      "Setting `pad_token_id` to 2 (first `eos_token_id`) to generate sequence\n"
     ]
    }
   ],
   "source": [
    "input_ids = tokenizer.encode(text, return_tensors='tf')\n",
    "beam_output = model.generate(\n",
    "  input_ids,\n",
    "  max_length = 100,\n",
    "  num_beams = 5,\n",
    "  temperature = 0.6,\n",
    "  no_repeat_ngram_size=2,\n",
    "  num_return_sequences=5\n",
    ")"
   ]
  },
  {
   "cell_type": "code",
   "execution_count": 11,
   "id": "14e9be68-b82f-468b-8825-0e7952b33979",
   "metadata": {},
   "outputs": [],
   "source": [
    "TextGenerate = [tokenizer.decode(beam_output[0]),'']\n",
    "SimilarPrhase = []"
   ]
  },
  {
   "cell_type": "code",
   "execution_count": 12,
   "id": "e06396c6-57bb-40d8-b7af-3452501bd5cd",
   "metadata": {},
   "outputs": [],
   "source": [
    "with open('AllPrhase.txt', encoding = 'utf-8') as f:\n",
    "    for line in f:\n",
    "        TextGenerate[1] = line.split()\n",
    "        embedding = modelSentences.encode(TextGenerate, convert_to_tensor=True)\n",
    "        cosine_scores = util.cos_sim(embedding, embedding)\n",
    "        score = float(cosine_scores[1][0])\n",
    "        if(len(SimilarPrhase) > 0 and score > SimilarPrhase[0]):\n",
    "            SimilarPrhase[0] = score\n",
    "            SimilarPrhase[2] = TextGenerate[1]\n",
    "        elif(len(SimilarPrhase) == 0):\n",
    "            SimilarPrhase.append(score)\n",
    "            SimilarPrhase.append(TextGenerate[0])\n",
    "            SimilarPrhase.append(TextGenerate[1])"
   ]
  },
  {
   "cell_type": "code",
   "execution_count": 13,
   "id": "9090c9b3-afa4-4363-92bb-1535ae733d08",
   "metadata": {},
   "outputs": [
    {
     "name": "stdout",
     "output_type": "stream",
     "text": [
      "0.8010282516479492\n"
     ]
    }
   ],
   "source": [
    "print(SimilarPrhase[0])"
   ]
  },
  {
   "cell_type": "code",
   "execution_count": 14,
   "id": "7b782a84-d51e-4c65-8dbd-240b2d3ea2b0",
   "metadata": {},
   "outputs": [
    {
     "name": "stdout",
     "output_type": "stream",
     "text": [
      "En una noche oscura, Hercules Poirot pudo ir a investigar la desaparición de las gemelas en el castillo. ¿Qué es lo que le parece? No creo que no lo sé. No obstante, ¿verdad? preguntó Poirot con voz baja y luego dijo No, no puedo decir nada más que se trata de los demás. La señora Lorrimer se inclinó hacia la cabeza y la puerta, como si se puso en la mesa. ¡Oh, sí! exclamó la señora Oliver. Me temo que sí, monsieur Poirot\n"
     ]
    }
   ],
   "source": [
    "print(SimilarPrhase[1])"
   ]
  },
  {
   "cell_type": "code",
   "execution_count": 15,
   "id": "248ac6ab-55c4-4c1a-87b0-c2e125667cda",
   "metadata": {},
   "outputs": [
    {
     "name": "stdout",
     "output_type": "stream",
     "text": [
      "N o M, me parece. En efecto manifestó Tommy. Y ahora han vuelto a las andadas, ¿eh? Buscándole tres pies al gato, ¿verdad? Abrigaban algunas sospechas y... No repuso Tommy. Nos trasladamos a nuestra actual casa porque estábamos cansados del piso en que vivíamos, cuya renta subía alarmantemente mes tras mes. ¡Vaya una treta asquerosa! exclamó el coronel Pikeaway. Los caseros suelen hacer eso ahora. No se ven nunca satisfechos. Actúan como verdaderas sanguijuelas. Muy bien. Se fueron ustedes a vivir allí. Il faut cultiver son jardín añadió el coronel, arremetiendo de pronto contra el idioma francés. Necesito repasar mi.\n"
     ]
    }
   ],
   "source": [
    "print(' '.join(SimilarPrhase[2]))"
   ]
  },
  {
   "cell_type": "code",
   "execution_count": null,
   "id": "0bbad9c2-6068-418f-a6bb-f9235e97ecfa",
   "metadata": {},
   "outputs": [],
   "source": []
  }
 ],
 "metadata": {
  "kernelspec": {
   "display_name": "Python 3 (ipykernel)",
   "language": "python",
   "name": "python3"
  },
  "language_info": {
   "codemirror_mode": {
    "name": "ipython",
    "version": 3
   },
   "file_extension": ".py",
   "mimetype": "text/x-python",
   "name": "python",
   "nbconvert_exporter": "python",
   "pygments_lexer": "ipython3",
   "version": "3.9.13"
  }
 },
 "nbformat": 4,
 "nbformat_minor": 5
}
